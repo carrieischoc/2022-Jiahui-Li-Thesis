{
 "cells": [
  {
   "cell_type": "code",
   "execution_count": 8,
   "metadata": {},
   "outputs": [],
   "source": [
    "from collections import namedtuple\n",
    "import pandas as pd\n",
    "import numpy as np\n",
    "from datasets import load_dataset, Dataset, Value, Sequence, concatenate_datasets\n",
    "import LoadData\n",
    "from rouge_score.rouge_scorer import _create_ngrams\n",
    "import os, sys"
   ]
  },
  {
   "cell_type": "code",
   "execution_count": 2,
   "metadata": {},
   "outputs": [
    {
     "name": "stderr",
     "output_type": "stream",
     "text": [
      "Found cached dataset xwikis (/home/jli/working_dir/datasets_cache/GEM___xwikis/en/0.1.0/f0d42452aea003f6523b24858a2536e7c97112dbda9a5f0cb6db5adddcfde345)\n"
     ]
    }
   ],
   "source": [
    "xwiki_en = load_dataset('GEM/xwikis', 'en', split='train')\n",
    "xwiki_en = xwiki_en.flatten()"
   ]
  },
  {
   "cell_type": "code",
   "execution_count": null,
   "metadata": {},
   "outputs": [],
   "source": [
    "xwiki_en = LoadData.rename_datasets(xwiki_en)"
   ]
  },
  {
   "cell_type": "code",
   "execution_count": null,
   "metadata": {},
   "outputs": [],
   "source": [
    "scitldr_a = load_dataset('scitldr', 'Abstract', split='train')"
   ]
  }
 ],
 "metadata": {
  "kernelspec": {
   "display_name": "Python 3.7.6 ('base')",
   "language": "python",
   "name": "python3"
  },
  "language_info": {
   "codemirror_mode": {
    "name": "ipython",
    "version": 3
   },
   "file_extension": ".py",
   "mimetype": "text/x-python",
   "name": "python",
   "nbconvert_exporter": "python",
   "pygments_lexer": "ipython3",
   "version": "3.7.6"
  },
  "orig_nbformat": 4,
  "vscode": {
   "interpreter": {
    "hash": "5b846cfcee08eaf6e946349c94f0d8bd25fe1df54d63a061d821a3e3a3059f33"
   }
  }
 },
 "nbformat": 4,
 "nbformat_minor": 2
}

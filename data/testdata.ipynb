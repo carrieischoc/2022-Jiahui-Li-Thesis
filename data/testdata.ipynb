{
 "cells": [
  {
   "cell_type": "code",
   "execution_count": 9,
   "metadata": {},
   "outputs": [],
   "source": [
    "from collections import namedtuple\n",
    "import pandas as pd\n",
    "import numpy as np\n",
    "from datasets import load_dataset, Dataset, Value, Sequence\n",
    "import LoadData\n",
    "from rouge_score.rouge_scorer import _create_ngrams"
   ]
  },
  {
   "cell_type": "code",
   "execution_count": null,
   "metadata": {},
   "outputs": [],
   "source": [
    "xwiki_en = load_dataset('GEM/xwikis', 'en', split='train[:1%]')\n",
    "xwiki_en = xwiki_en.flatten()"
   ]
  },
  {
   "cell_type": "code",
   "execution_count": null,
   "metadata": {},
   "outputs": [],
   "source": [
    "xwiki_en = LoadData.rename_datasets(xwiki_en)"
   ]
  },
  {
   "cell_type": "code",
   "execution_count": null,
   "metadata": {},
   "outputs": [],
   "source": [
    "scitldr_a = load_dataset('scitldr', 'Abstract', split='train')"
   ]
  }
 ],
 "metadata": {
  "kernelspec": {
   "display_name": "Python 3.7.6 ('base')",
   "language": "python",
   "name": "python3"
  },
  "language_info": {
   "codemirror_mode": {
    "name": "ipython",
    "version": 3
   },
   "file_extension": ".py",
   "mimetype": "text/x-python",
   "name": "python",
   "nbconvert_exporter": "python",
   "pygments_lexer": "ipython3",
   "version": "3.7.6"
  },
  "orig_nbformat": 4,
  "vscode": {
   "interpreter": {
    "hash": "00b683f7247be56873f76d0b0d257e8fa6bb4a1e3e68fabe0e16b66c988ff868"
   }
  }
 },
 "nbformat": 4,
 "nbformat_minor": 2
}
